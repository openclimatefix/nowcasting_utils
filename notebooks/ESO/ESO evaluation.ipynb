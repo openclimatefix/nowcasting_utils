{
 "cells": [
  {
   "cell_type": "code",
   "execution_count": null,
   "id": "6863faaf",
   "metadata": {},
   "outputs": [],
   "source": [
    "# imports\n",
    "from pathlib import Path\n",
    "import pandas as pd\n",
    "from nowcasting_utils.metrics.evaluation import evaluation\n",
    "\n",
    "# Output csv\n",
    "ESO_PV_FORECASTS_OUTPUT_FILE = Path(\"/mnt/storage_b/data/ocf/solar_pv_nowcasting/other_organisations_pv_forecasts/National_Grid_ESO/CSV/testset_v15.csv\")\n"
   ]
  },
  {
   "cell_type": "code",
   "execution_count": null,
   "id": "2b9d98ca",
   "metadata": {},
   "outputs": [],
   "source": [
    "# run evaluation for ESO forecast\n",
    "\n",
    "model_name = f'ESO forecast'\n",
    "\n",
    "results_df = pd.read_csv(ESO_PV_FORECASTS_OUTPUT_FILE)\n",
    "print(results_df)\n",
    "\n",
    "evaluation(results_df,model_name,show_fig=False)"
   ]
  },
  {
   "cell_type": "code",
   "execution_count": null,
   "id": "66cd493b",
   "metadata": {},
   "outputs": [],
   "source": []
  }
 ],
 "metadata": {
  "kernelspec": {
   "display_name": "Python 3 (ipykernel)",
   "language": "python",
   "name": "python3"
  },
  "language_info": {
   "codemirror_mode": {
    "name": "ipython",
    "version": 3
   },
   "file_extension": ".py",
   "mimetype": "text/x-python",
   "name": "python",
   "nbconvert_exporter": "python",
   "pygments_lexer": "ipython3",
   "version": "3.9.6"
  }
 },
 "nbformat": 4,
 "nbformat_minor": 5
}
