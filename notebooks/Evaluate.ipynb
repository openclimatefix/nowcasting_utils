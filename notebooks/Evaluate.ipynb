{
 "cells": [
  {
   "cell_type": "code",
   "execution_count": null,
   "id": "ac266a9c",
   "metadata": {},
   "outputs": [],
   "source": [
    "from nowcasting_utils.metrics.evaluation import evaluation\n",
    "import pandas as pd\n",
    "import neptune.new as neptune"
   ]
  },
  {
   "cell_type": "code",
   "execution_count": null,
   "id": "8f61fbc8",
   "metadata": {},
   "outputs": [],
   "source": [
    "# load file from neptune\n",
    "\n",
    "experiments = {}\n",
    "experiments['conv3d_sat_nwp'] = {'project': 'OpenClimateFix/predict-pv-yield', 'run_name' : 'PRED-545','epoch':'1'}\n",
    "experiments['Perciever'] = {'project': 'OpenClimateFix/predict-pv-yield', 'run_name' : 'PRED-571','epoch':'10'}\n",
    "experiments['PercieverIO'] = {'project': 'OpenClimateFix/forecasting-satellite-images', 'run_name' : 'SAT-295','epoch':'5'}\n",
    "\n",
    "for model_name, experiment in experiments.items():\n",
    "    run_name = experiment['run_name']\n",
    "    epoch = experiment['epoch']\n",
    "    \n",
    "    run = neptune.init(\n",
    "        project=experiment['project'],\n",
    "    #     api_token='<YOUR_API_TOKEN>',\n",
    "        run=run_name # for example 'SAN-123'\n",
    "        )\n",
    "\n",
    "    # query a field\n",
    "    destination_path = './temp.csv'\n",
    "    results_df = run[f'validation/results/epoch_{epoch}'].download(destination_path) \n",
    "    results_df = pd.read_csv(destination_path)\n",
    "\n",
    "    model_name = f'{model_name} {run_name}'\n",
    "\n",
    "    evaluation(results_df,model_name,show_fig=True)\n",
    "\n",
    "\n",
    "    "
   ]
  },
  {
   "cell_type": "code",
   "execution_count": null,
   "id": "5c4af8e6",
   "metadata": {},
   "outputs": [],
   "source": []
  },
  {
   "cell_type": "code",
   "execution_count": null,
   "id": "c6e0adb2",
   "metadata": {},
   "outputs": [],
   "source": []
  },
  {
   "cell_type": "code",
   "execution_count": null,
   "id": "16149349",
   "metadata": {},
   "outputs": [],
   "source": []
  }
 ],
 "metadata": {
  "kernelspec": {
   "display_name": "Python 3 (ipykernel)",
   "language": "python",
   "name": "python3"
  },
  "language_info": {
   "codemirror_mode": {
    "name": "ipython",
    "version": 3
   },
   "file_extension": ".py",
   "mimetype": "text/x-python",
   "name": "python",
   "nbconvert_exporter": "python",
   "pygments_lexer": "ipython3",
   "version": "3.9.6"
  }
 },
 "nbformat": 4,
 "nbformat_minor": 5
}
